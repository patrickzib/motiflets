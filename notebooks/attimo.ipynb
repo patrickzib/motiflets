{
 "cells": [
  {
   "cell_type": "code",
   "execution_count": 16,
   "id": "8f23d8c4",
   "metadata": {
    "scrolled": false,
    "ExecuteTime": {
     "end_time": "2023-12-20T10:57:21.959014Z",
     "start_time": "2023-12-20T10:57:21.913920Z"
    }
   },
   "outputs": [
    {
     "name": "stdout",
     "output_type": "stream",
     "text": [
      "The autoreload extension is already loaded. To reload it, use:\n",
      "  %reload_ext autoreload\n"
     ]
    }
   ],
   "source": [
    "%load_ext autoreload\n",
    "%autoreload 2\n",
    "\n",
    "import pyattimo\n",
    "from motiflets.plotting import *"
   ]
  },
  {
   "cell_type": "code",
   "execution_count": 32,
   "id": "673843be",
   "metadata": {
    "ExecuteTime": {
     "end_time": "2023-12-20T11:03:30.846720Z",
     "start_time": "2023-12-20T11:03:30.215119Z"
    }
   },
   "outputs": [
    {
     "name": "stdout",
     "output_type": "stream",
     "text": [
      "Size of DS:  (7824879,)\n"
     ]
    }
   ],
   "source": [
    "# load a dataset, any list of numpy array of floats works fine\n",
    "# The following call loads the first 100000 points of the ECG \n",
    "# dataset (which will be downloaded from the internet)\n",
    "ts = pyattimo.load_dataset('ecg')\n",
    "series = ts.flatten()\n",
    "\n",
    "print(\"Size of DS: \", series.shape)"
   ]
  },
  {
   "cell_type": "code",
   "execution_count": 31,
   "id": "248794f2",
   "metadata": {
    "ExecuteTime": {
     "end_time": "2023-12-20T11:03:07.834969Z",
     "start_time": "2023-12-20T11:03:03.460555Z"
    }
   },
   "outputs": [
    {
     "name": "stdout",
     "output_type": "stream",
     "text": [
      "[1299, 17355]\n",
      "1.36117145738654\n",
      "[1560, 17616, 18912]\n",
      "1.5316375415879608\n",
      "[1369, 17425, 18721, 24345]\n",
      "1.8562003566292395\n",
      "[1270, 6210, 17326, 21446, 24246]\n",
      "2.454663800175167\n"
     ]
    },
    {
     "name": "stderr",
     "output_type": "stream",
     "text": [
      "thread '<unnamed>' panicked at /Users/runner/work/attimo/attimo/src/knn.rs:202:13:\n",
      "assertion failed: prev_cnt <= new_cnt\n"
     ]
    },
    {
     "ename": "PanicException",
     "evalue": "assertion failed: prev_cnt <= new_cnt",
     "output_type": "error",
     "traceback": [
      "\u001B[0;31m---------------------------------------------------------------------------\u001B[0m",
      "\u001B[0;31mPanicException\u001B[0m                            Traceback (most recent call last)",
      "Cell \u001B[0;32mIn[31], line 11\u001B[0m\n\u001B[1;32m      5\u001B[0m start \u001B[38;5;241m=\u001B[39m time\u001B[38;5;241m.\u001B[39mtime()\n\u001B[1;32m      7\u001B[0m m_iter \u001B[38;5;241m=\u001B[39m pyattimo\u001B[38;5;241m.\u001B[39mMotifletsIterator(\n\u001B[1;32m      8\u001B[0m     ts, w\u001B[38;5;241m=\u001B[39m\u001B[38;5;241m1000\u001B[39m, max_k\u001B[38;5;241m=\u001B[39m\u001B[38;5;241m30\u001B[39m\n\u001B[1;32m      9\u001B[0m )\n\u001B[0;32m---> 11\u001B[0m \u001B[38;5;28;01mfor\u001B[39;00m m \u001B[38;5;129;01min\u001B[39;00m m_iter:\n\u001B[1;32m     12\u001B[0m     \u001B[38;5;28mprint\u001B[39m(m\u001B[38;5;241m.\u001B[39mindices)    \n\u001B[1;32m     13\u001B[0m     \u001B[38;5;28mprint\u001B[39m(m\u001B[38;5;241m.\u001B[39mextent)\n",
      "\u001B[0;31mPanicException\u001B[0m: assertion failed: prev_cnt <= new_cnt"
     ]
    }
   ],
   "source": [
    "# Now we can find k-motiflets:\n",
    "#  - w is the window length\n",
    "#  - support is the number of subsequences in the motiflet (k in the motiflet paper)\n",
    "#  - repetitions is the number of LSH repetitions\n",
    "start = time.time()\n",
    "\n",
    "m_iter = pyattimo.MotifletsIterator(\n",
    "    ts, w=1000, max_k=30\n",
    ")\n",
    "\n",
    "for m in m_iter:\n",
    "    print(m.indices)    \n",
    "    print(m.extent)\n",
    "    # np.sort(m.indices)\n",
    "    \n",
    "end = time.time()\n",
    "print(\"Discovered motiflets in\", end - start, \"seconds\")    "
   ]
  },
  {
   "cell_type": "markdown",
   "source": [],
   "metadata": {
    "collapsed": false
   },
   "id": "3dfdf6c9b7754a8f"
  },
  {
   "cell_type": "code",
   "execution_count": 33,
   "id": "618d04eb",
   "metadata": {
    "scrolled": false,
    "ExecuteTime": {
     "end_time": "2023-12-20T11:04:00.567768Z",
     "start_time": "2023-12-20T11:03:36.079244Z"
    }
   },
   "outputs": [
    {
     "name": "stdout",
     "output_type": "stream",
     "text": [
      "Data 7824879\n"
     ]
    },
    {
     "ename": "IndexError",
     "evalue": "index 10 is out of bounds for axis 0 with size 10",
     "output_type": "error",
     "traceback": [
      "\u001B[0;31m---------------------------------------------------------------------------\u001B[0m",
      "\u001B[0;31mIndexError\u001B[0m                                Traceback (most recent call last)",
      "Cell \u001B[0;32mIn[33], line 3\u001B[0m\n\u001B[1;32m      1\u001B[0m k\u001B[38;5;241m=\u001B[39m\u001B[38;5;241m10\u001B[39m\n\u001B[1;32m      2\u001B[0m mot \u001B[38;5;241m=\u001B[39m Motiflets(\u001B[38;5;124m\"\u001B[39m\u001B[38;5;124mECG\u001B[39m\u001B[38;5;124m\"\u001B[39m, series)\n\u001B[0;32m----> 3\u001B[0m _ \u001B[38;5;241m=\u001B[39m \u001B[43mmot\u001B[49m\u001B[38;5;241;43m.\u001B[39;49m\u001B[43mfit_k_elbow\u001B[49m\u001B[43m(\u001B[49m\u001B[43mk\u001B[49m\u001B[43m,\u001B[49m\u001B[43m \u001B[49m\u001B[38;5;241;43m1000\u001B[39;49m\u001B[43m)\u001B[49m\n",
      "File \u001B[0;32m~/workspace/motiflets_paper/motiflets/plotting.py:181\u001B[0m, in \u001B[0;36mMotiflets.fit_k_elbow\u001B[0;34m(self, k_max, motif_length, exclusion, filter, plot_elbows, plot_motifs_as_grid)\u001B[0m\n\u001B[1;32m    178\u001B[0m \u001B[38;5;28;01melse\u001B[39;00m:\n\u001B[1;32m    179\u001B[0m     \u001B[38;5;28mself\u001B[39m\u001B[38;5;241m.\u001B[39mmotif_length \u001B[38;5;241m=\u001B[39m motif_length\n\u001B[0;32m--> 181\u001B[0m \u001B[38;5;28mself\u001B[39m\u001B[38;5;241m.\u001B[39mdists, \u001B[38;5;28mself\u001B[39m\u001B[38;5;241m.\u001B[39mmotiflets, \u001B[38;5;28mself\u001B[39m\u001B[38;5;241m.\u001B[39melbow_points \u001B[38;5;241m=\u001B[39m \u001B[43mplot_elbow\u001B[49m\u001B[43m(\u001B[49m\n\u001B[1;32m    182\u001B[0m \u001B[43m    \u001B[49m\u001B[43mk_max\u001B[49m\u001B[43m,\u001B[49m\n\u001B[1;32m    183\u001B[0m \u001B[43m    \u001B[49m\u001B[38;5;28;43mself\u001B[39;49m\u001B[38;5;241;43m.\u001B[39;49m\u001B[43mseries\u001B[49m\u001B[43m,\u001B[49m\n\u001B[1;32m    184\u001B[0m \u001B[43m    \u001B[49m\u001B[43mds_name\u001B[49m\u001B[38;5;241;43m=\u001B[39;49m\u001B[38;5;28;43mself\u001B[39;49m\u001B[38;5;241;43m.\u001B[39;49m\u001B[43mds_name\u001B[49m\u001B[43m,\u001B[49m\n\u001B[1;32m    185\u001B[0m \u001B[43m    \u001B[49m\u001B[43mmotif_length\u001B[49m\u001B[38;5;241;43m=\u001B[39;49m\u001B[43mmotif_length\u001B[49m\u001B[43m,\u001B[49m\n\u001B[1;32m    186\u001B[0m \u001B[43m    \u001B[49m\u001B[43mexclusion\u001B[49m\u001B[38;5;241;43m=\u001B[39;49m\u001B[43mexclusion\u001B[49m\u001B[43m,\u001B[49m\n\u001B[1;32m    187\u001B[0m \u001B[43m    \u001B[49m\u001B[43mplot_elbows\u001B[49m\u001B[38;5;241;43m=\u001B[39;49m\u001B[43mplot_elbows\u001B[49m\u001B[43m,\u001B[49m\n\u001B[1;32m    188\u001B[0m \u001B[43m    \u001B[49m\u001B[43mplot_grid\u001B[49m\u001B[38;5;241;43m=\u001B[39;49m\u001B[43mplot_motifs_as_grid\u001B[49m\u001B[43m,\u001B[49m\n\u001B[1;32m    189\u001B[0m \u001B[43m    \u001B[49m\u001B[43mground_truth\u001B[49m\u001B[38;5;241;43m=\u001B[39;49m\u001B[38;5;28;43mself\u001B[39;49m\u001B[38;5;241;43m.\u001B[39;49m\u001B[43mground_truth\u001B[49m\u001B[43m,\u001B[49m\n\u001B[1;32m    190\u001B[0m \u001B[43m    \u001B[49m\u001B[38;5;28;43mfilter\u001B[39;49m\u001B[38;5;241;43m=\u001B[39;49m\u001B[38;5;28;43mfilter\u001B[39;49m\u001B[43m,\u001B[49m\n\u001B[1;32m    191\u001B[0m \u001B[43m    \u001B[49m\u001B[43mn_jobs\u001B[49m\u001B[38;5;241;43m=\u001B[39;49m\u001B[38;5;28;43mself\u001B[39;49m\u001B[38;5;241;43m.\u001B[39;49m\u001B[43mn_jobs\u001B[49m\u001B[43m,\u001B[49m\n\u001B[1;32m    192\u001B[0m \u001B[43m    \u001B[49m\u001B[43melbow_deviation\u001B[49m\u001B[38;5;241;43m=\u001B[39;49m\u001B[38;5;28;43mself\u001B[39;49m\u001B[38;5;241;43m.\u001B[39;49m\u001B[43melbow_deviation\u001B[49m\u001B[43m,\u001B[49m\n\u001B[1;32m    193\u001B[0m \u001B[43m    \u001B[49m\u001B[43mslack\u001B[49m\u001B[38;5;241;43m=\u001B[39;49m\u001B[38;5;28;43mself\u001B[39;49m\u001B[38;5;241;43m.\u001B[39;49m\u001B[43mslack\u001B[49m\n\u001B[1;32m    194\u001B[0m \u001B[43m\u001B[49m\u001B[43m)\u001B[49m\n\u001B[1;32m    196\u001B[0m \u001B[38;5;28;01mreturn\u001B[39;00m \u001B[38;5;28mself\u001B[39m\u001B[38;5;241m.\u001B[39mdists, \u001B[38;5;28mself\u001B[39m\u001B[38;5;241m.\u001B[39mmotiflets, \u001B[38;5;28mself\u001B[39m\u001B[38;5;241m.\u001B[39melbow_points\n",
      "File \u001B[0;32m~/workspace/motiflets_paper/motiflets/plotting.py:533\u001B[0m, in \u001B[0;36mplot_elbow\u001B[0;34m(k_max, data, ds_name, motif_length, exclusion, plot_elbows, plot_grid, ground_truth, filter, n_jobs, elbow_deviation, slack)\u001B[0m\n\u001B[1;32m    530\u001B[0m \u001B[38;5;28mprint\u001B[39m(\u001B[38;5;124m\"\u001B[39m\u001B[38;5;124mData\u001B[39m\u001B[38;5;124m\"\u001B[39m, \u001B[38;5;28mlen\u001B[39m(raw_data))\n\u001B[1;32m    532\u001B[0m startTime \u001B[38;5;241m=\u001B[39m time\u001B[38;5;241m.\u001B[39mperf_counter()\n\u001B[0;32m--> 533\u001B[0m dists, candidates, elbow_points, m \u001B[38;5;241m=\u001B[39m \u001B[43mml\u001B[49m\u001B[38;5;241;43m.\u001B[39;49m\u001B[43msearch_k_motiflets_elbow\u001B[49m\u001B[43m(\u001B[49m\n\u001B[1;32m    534\u001B[0m \u001B[43m    \u001B[49m\u001B[43mk_max\u001B[49m\u001B[43m,\u001B[49m\n\u001B[1;32m    535\u001B[0m \u001B[43m    \u001B[49m\u001B[43mraw_data\u001B[49m\u001B[43m,\u001B[49m\n\u001B[1;32m    536\u001B[0m \u001B[43m    \u001B[49m\u001B[43mmotif_length\u001B[49m\u001B[43m,\u001B[49m\n\u001B[1;32m    537\u001B[0m \u001B[43m    \u001B[49m\u001B[43mn_jobs\u001B[49m\u001B[38;5;241;43m=\u001B[39;49m\u001B[43mn_jobs\u001B[49m\u001B[43m,\u001B[49m\n\u001B[1;32m    538\u001B[0m \u001B[43m    \u001B[49m\u001B[43mexclusion\u001B[49m\u001B[38;5;241;43m=\u001B[39;49m\u001B[43mexclusion\u001B[49m\u001B[43m,\u001B[49m\n\u001B[1;32m    539\u001B[0m \u001B[43m    \u001B[49m\u001B[43melbow_deviation\u001B[49m\u001B[38;5;241;43m=\u001B[39;49m\u001B[43melbow_deviation\u001B[49m\u001B[43m,\u001B[49m\n\u001B[1;32m    540\u001B[0m \u001B[43m    \u001B[49m\u001B[43mslack\u001B[49m\u001B[38;5;241;43m=\u001B[39;49m\u001B[43mslack\u001B[49m\u001B[43m)\u001B[49m\n\u001B[1;32m    541\u001B[0m endTime \u001B[38;5;241m=\u001B[39m (time\u001B[38;5;241m.\u001B[39mperf_counter() \u001B[38;5;241m-\u001B[39m startTime)\n\u001B[1;32m    543\u001B[0m \u001B[38;5;28mprint\u001B[39m(\u001B[38;5;124m\"\u001B[39m\u001B[38;5;124mChosen window-size:\u001B[39m\u001B[38;5;124m\"\u001B[39m, m, \u001B[38;5;124m\"\u001B[39m\u001B[38;5;124min\u001B[39m\u001B[38;5;124m\"\u001B[39m, np\u001B[38;5;241m.\u001B[39mround(endTime, \u001B[38;5;241m1\u001B[39m), \u001B[38;5;124m\"\u001B[39m\u001B[38;5;124ms\u001B[39m\u001B[38;5;124m\"\u001B[39m)\n",
      "File \u001B[0;32m~/workspace/motiflets_paper/motiflets/motiflets.py:1027\u001B[0m, in \u001B[0;36msearch_k_motiflets_elbow\u001B[0;34m(k_max, data, motif_length, motif_length_range, exclusion, elbow_deviation, filter, slack, n_jobs)\u001B[0m\n\u001B[1;32m   1025\u001B[0m         test_k \u001B[38;5;241m=\u001B[39m \u001B[38;5;28mlen\u001B[39m(m\u001B[38;5;241m.\u001B[39mindices)\n\u001B[1;32m   1026\u001B[0m         \u001B[38;5;66;03m# TODO check extent??\u001B[39;00m\n\u001B[0;32m-> 1027\u001B[0m         \u001B[43mk_motiflet_distances\u001B[49m\u001B[43m[\u001B[49m\u001B[43mtest_k\u001B[49m\u001B[43m]\u001B[49m \u001B[38;5;241m=\u001B[39m m\u001B[38;5;241m.\u001B[39mextent\n\u001B[1;32m   1028\u001B[0m         k_motiflet_candidates[test_k] \u001B[38;5;241m=\u001B[39m m\u001B[38;5;241m.\u001B[39mindices\n\u001B[1;32m   1029\u001B[0m         \u001B[38;5;66;03m# upper_bound = min(m.extent, upper_bound)\u001B[39;00m\n\u001B[1;32m   1030\u001B[0m \u001B[38;5;28;01melse\u001B[39;00m:\n\u001B[1;32m   1031\u001B[0m     \u001B[38;5;66;03m# switch to sparse matrix representation when length is above 30_000\u001B[39;00m\n\u001B[1;32m   1032\u001B[0m     \u001B[38;5;66;03m# sparse matrix is 2x slower but needs less memory\u001B[39;00m\n",
      "\u001B[0;31mIndexError\u001B[0m: index 10 is out of bounds for axis 0 with size 10"
     ]
    }
   ],
   "source": [
    "k=10\n",
    "mot = Motiflets(\"ECG\", series)\n",
    "_ = mot.fit_k_elbow(k, 1000)"
   ]
  },
  {
   "cell_type": "code",
   "execution_count": null,
   "id": "4dc8b40e",
   "metadata": {},
   "outputs": [],
   "source": [
    "print(np.sort(mot.motiflets[-1]))\n",
    "print(mot.dists[-1])"
   ]
  },
  {
   "cell_type": "code",
   "execution_count": null,
   "id": "8344a6cd",
   "metadata": {},
   "outputs": [],
   "source": []
  },
  {
   "cell_type": "code",
   "execution_count": null,
   "outputs": [],
   "source": [],
   "metadata": {
    "collapsed": false
   },
   "id": "2d8291d675c494a0"
  },
  {
   "cell_type": "code",
   "execution_count": 4,
   "id": "7dc68451",
   "metadata": {},
   "outputs": [
    {
     "name": "stderr",
     "output_type": "stream",
     "text": [
      "OMP: Info #276: omp_set_nested routine deprecated, please use omp_set_max_active_levels instead.\n"
     ]
    }
   ],
   "source": [
    "D_full, knns = ml.compute_distance_matrix(series.to_numpy(), 1000, 1)"
   ]
  },
  {
   "cell_type": "code",
   "execution_count": 5,
   "id": "b5ad1d12",
   "metadata": {},
   "outputs": [
    {
     "name": "stdout",
     "output_type": "stream",
     "text": [
      "(1, 29001, 29001)\n"
     ]
    }
   ],
   "source": [
    "print(D_full.shape)\n",
    "dim_index = np.zeros((D_full.shape[1], 1), dtype=np.int32)"
   ]
  },
  {
   "cell_type": "code",
   "execution_count": 9,
   "id": "17a48c7d",
   "metadata": {},
   "outputs": [
    {
     "name": "stdout",
     "output_type": "stream",
     "text": [
      "[  481  1445  3909  5073  6385 10245 12605 16273 17501 18797 20221 21621\n",
      " 22929 24421 27245 28635]\n"
     ]
    },
    {
     "data": {
      "text/plain": [
       "4.258178561202897"
      ]
     },
     "execution_count": 9,
     "metadata": {},
     "output_type": "execute_result"
    }
   ],
   "source": [
    "pos = np.sort(m.indices)\n",
    "print(pos)\n",
    "\n",
    "ml.get_pairwise_extent(D_full, pos, dim_index)**2\n"
   ]
  },
  {
   "cell_type": "code",
   "execution_count": null,
   "id": "695862a2",
   "metadata": {},
   "outputs": [],
   "source": []
  }
 ],
 "metadata": {
  "kernelspec": {
   "display_name": "Python 3 (ipykernel)",
   "language": "python",
   "name": "python3"
  },
  "language_info": {
   "codemirror_mode": {
    "name": "ipython",
    "version": 3
   },
   "file_extension": ".py",
   "mimetype": "text/x-python",
   "name": "python",
   "nbconvert_exporter": "python",
   "pygments_lexer": "ipython3",
   "version": "3.8.13"
  }
 },
 "nbformat": 4,
 "nbformat_minor": 5
}
