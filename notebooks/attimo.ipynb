{
 "cells": [
  {
   "cell_type": "code",
   "execution_count": 8,
   "id": "8f23d8c4",
   "metadata": {
    "scrolled": false,
    "ExecuteTime": {
     "end_time": "2023-12-20T10:39:32.253279Z",
     "start_time": "2023-12-20T10:39:32.165111Z"
    }
   },
   "outputs": [
    {
     "name": "stdout",
     "output_type": "stream",
     "text": [
      "The autoreload extension is already loaded. To reload it, use:\n",
      "  %reload_ext autoreload\n"
     ]
    }
   ],
   "source": [
    "%load_ext autoreload\n",
    "%autoreload 2\n",
    "\n",
    "import pyattimo\n",
    "from motiflets.plotting import *"
   ]
  },
  {
   "cell_type": "code",
   "execution_count": 9,
   "id": "673843be",
   "metadata": {
    "ExecuteTime": {
     "end_time": "2023-12-20T10:39:33.887755Z",
     "start_time": "2023-12-20T10:39:33.402081Z"
    }
   },
   "outputs": [
    {
     "name": "stdout",
     "output_type": "stream",
     "text": [
      "Size of DS:  (1, 100000)\n"
     ]
    }
   ],
   "source": [
    "# load a dataset, any list of numpy array of floats works fine\n",
    "# The following call loads the first 100000 points of the ECG \n",
    "# dataset (which will be downloaded from the internet)\n",
    "ts = pyattimo.load_dataset('ecg', 100_000)\n",
    "series = ts.flatten()\n",
    "\n",
    "print(\"Size of DS: \", series.shape)"
   ]
  },
  {
   "cell_type": "code",
   "execution_count": 10,
   "id": "248794f2",
   "metadata": {
    "ExecuteTime": {
     "end_time": "2023-12-20T10:39:44.303037Z",
     "start_time": "2023-12-20T10:39:35.212728Z"
    }
   },
   "outputs": [
    {
     "name": "stdout",
     "output_type": "stream",
     "text": [
      "Discovered motiflets in 0.37581610679626465 seconds\n",
      "motiflet: [82087, 89707] extent=0.8153897441676915\n",
      "0.8153897441676915\n",
      "motiflet: [26629, 29365, 93661] extent=1.2512607472434998\n",
      "1.2512607472434998\n",
      "motiflet: [26638, 29374, 93670, 94922] extent=1.387100145449669\n",
      "1.387100145449669\n",
      "motiflet: [76, 26840, 28228, 30660, 84984] extent=1.8603625326421493\n",
      "1.8603625326421493\n",
      "motiflet: [27360, 28748, 44160, 89168, 94392, 95644] extent=2.0469338743337238\n",
      "2.0469338743337238\n"
     ]
    },
    {
     "name": "stderr",
     "output_type": "stream",
     "text": [
      "thread '<unnamed>' panicked at /Users/runner/work/attimo/attimo/src/knn.rs:202:13:\n",
      "assertion failed: prev_cnt <= new_cnt\n"
     ]
    },
    {
     "ename": "PanicException",
     "evalue": "assertion failed: prev_cnt <= new_cnt",
     "output_type": "error",
     "traceback": [
      "\u001B[0;31m---------------------------------------------------------------------------\u001B[0m",
      "\u001B[0;31mPanicException\u001B[0m                            Traceback (most recent call last)",
      "Cell \u001B[0;32mIn[10], line 14\u001B[0m\n\u001B[1;32m     11\u001B[0m end \u001B[38;5;241m=\u001B[39m time\u001B[38;5;241m.\u001B[39mtime()\n\u001B[1;32m     12\u001B[0m \u001B[38;5;28mprint\u001B[39m(\u001B[38;5;124m\"\u001B[39m\u001B[38;5;124mDiscovered motiflets in\u001B[39m\u001B[38;5;124m\"\u001B[39m, end \u001B[38;5;241m-\u001B[39m start, \u001B[38;5;124m\"\u001B[39m\u001B[38;5;124mseconds\u001B[39m\u001B[38;5;124m\"\u001B[39m)\n\u001B[0;32m---> 14\u001B[0m \u001B[38;5;28;01mfor\u001B[39;00m m \u001B[38;5;129;01min\u001B[39;00m m_iter:\n\u001B[1;32m     15\u001B[0m     \u001B[38;5;28mprint\u001B[39m(m)    \n\u001B[1;32m     16\u001B[0m     \u001B[38;5;28mprint\u001B[39m(m\u001B[38;5;241m.\u001B[39mextent)\n",
      "\u001B[0;31mPanicException\u001B[0m: assertion failed: prev_cnt <= new_cnt"
     ]
    }
   ],
   "source": [
    "# Now we can find k-motiflets:\n",
    "#  - w is the window length\n",
    "#  - support is the number of subsequences in the motiflet (k in the motiflet paper)\n",
    "#  - repetitions is the number of LSH repetitions\n",
    "start = time.time()\n",
    "\n",
    "m_iter = pyattimo.MotifletsIterator(\n",
    "    ts, w=1000, max_k=30\n",
    ")\n",
    "\n",
    "end = time.time()\n",
    "print(\"Discovered motiflets in\", end - start, \"seconds\")\n",
    "\n",
    "for m in m_iter:\n",
    "    print(m)    \n",
    "    print(m.extent)\n",
    "    # np.sort(m.indices)"
   ]
  },
  {
   "cell_type": "code",
   "execution_count": 14,
   "id": "618d04eb",
   "metadata": {
    "scrolled": false,
    "ExecuteTime": {
     "end_time": "2023-12-20T10:41:22.041650Z",
     "start_time": "2023-12-20T10:41:21.122069Z"
    }
   },
   "outputs": [
    {
     "name": "stdout",
     "output_type": "stream",
     "text": [
      "Data 100000\n"
     ]
    },
    {
     "ename": "TypingError",
     "evalue": "Failed in nopython mode pipeline (step: nopython frontend)\nFailed in nopython mode pipeline (step: Handle with contexts)\nFailed in nopython mode pipeline (step: nopython frontend)\nNo implementation of function Function(<built-in function concatenate>) found for signature:\n \n >>> concatenate(Tuple(array(int64, 1d, C), array(float64, 2d, C)))\n \nThere are 2 candidate implementations:\n    - Of which 2 did not match due to:\n    Overload in function 'impl_np_concatenate': File: numba/np/arrayobj.py: Line 5836.\n      With argument(s): '(Tuple(array(int64, 1d, C), array(float64, 2d, C)))':\n     Rejected as the implementation raised a specific error:\n       TypingError: Failed in nopython mode pipeline (step: nopython frontend)\n     No implementation of function Function(<intrinsic np_concatenate>) found for signature:\n      \n      >>> np_concatenate(Tuple(array(int64, 1d, C), array(float64, 2d, C)), Literal[int](0))\n      \n     There are 2 candidate implementations:\n           - Of which 2 did not match due to:\n           Intrinsic in function 'np_concatenate': File: numba/np/arrayobj.py: Line 5819.\n             With argument(s): '(Tuple(array(int64, 1d, C), array(float64, 2d, C)), int64)':\n            Rejected as the implementation raised a specific error:\n              NumbaTypeError: np.concatenate(): all the input arrays must have same number of dimensions\n       raised from /Users/bzcschae/miniconda3/lib/python3.10/site-packages/numba/core/typing/npydecl.py:518\n     \n     During: resolving callee type: Function(<intrinsic np_concatenate>)\n     During: typing of call at /Users/bzcschae/miniconda3/lib/python3.10/site-packages/numba/np/arrayobj.py (5840)\n     \n     \n     File \"../../../miniconda3/lib/python3.10/site-packages/numba/np/arrayobj.py\", line 5840:\n             def impl(arrays, axis=0):\n                 return np_concatenate(arrays, axis)\n                 ^\n\n  raised from /Users/bzcschae/miniconda3/lib/python3.10/site-packages/numba/core/typeinfer.py:1086\n\nDuring: resolving callee type: Function(<built-in function concatenate>)\nDuring: typing of call at /Users/bzcschae/workspace/motiflets_paper/motiflets/motiflets.py (219)\n\n\nFile \"../motiflets/motiflets.py\", line 219:\ndef _sliding_dot_product(query, time_series):\n    <source elided>\n    if n % 2 == 1:\n        time_series = np.concatenate((np.array([0]), time_series))\n        ^\n\nDuring: resolving callee type: type(CPUDispatcher(<function _sliding_dot_product at 0x16046a7a0>))\nDuring: typing of call at /Users/bzcschae/workspace/motiflets_paper/motiflets/motiflets.py (327)\n\nDuring: resolving callee type: type(CPUDispatcher(<function _sliding_dot_product at 0x16046a7a0>))\nDuring: typing of call at /Users/bzcschae/workspace/motiflets_paper/motiflets/motiflets.py (337)\n\nDuring: resolving callee type: type(CPUDispatcher(<function _sliding_dot_product at 0x16046a7a0>))\nDuring: typing of call at /Users/bzcschae/workspace/motiflets_paper/motiflets/motiflets.py (327)\n\nDuring: resolving callee type: type(CPUDispatcher(<function _sliding_dot_product at 0x16046a7a0>))\nDuring: typing of call at /Users/bzcschae/workspace/motiflets_paper/motiflets/motiflets.py (337)\n\nDuring: resolving callee type: type(CPUDispatcher(<function _sliding_dot_product at 0x16046a7a0>))\nDuring: typing of call at /Users/bzcschae/workspace/motiflets_paper/motiflets/motiflets.py (414)\n\nDuring: resolving callee type: type(CPUDispatcher(<function _sliding_dot_product at 0x16046a7a0>))\nDuring: typing of call at /Users/bzcschae/workspace/motiflets_paper/motiflets/motiflets.py (426)\n\nDuring: resolving callee type: type(CPUDispatcher(<function _sliding_dot_product at 0x16046a7a0>))\nDuring: typing of call at /Users/bzcschae/workspace/motiflets_paper/motiflets/motiflets.py (458)\n\nDuring: resolving callee type: type(CPUDispatcher(<function _sliding_dot_product at 0x16046a7a0>))\nDuring: typing of call at /Users/bzcschae/workspace/motiflets_paper/motiflets/motiflets.py (414)\n\nDuring: resolving callee type: type(CPUDispatcher(<function _sliding_dot_product at 0x16046a7a0>))\nDuring: typing of call at /Users/bzcschae/workspace/motiflets_paper/motiflets/motiflets.py (426)\n\nDuring: resolving callee type: type(CPUDispatcher(<function _sliding_dot_product at 0x16046a7a0>))\nDuring: typing of call at /Users/bzcschae/workspace/motiflets_paper/motiflets/motiflets.py (458)\n\nDuring: resolving callee type: type(CPUDispatcher(<function _sliding_dot_product at 0x16046a7a0>))\nDuring: typing of call at /Users/bzcschae/workspace/motiflets_paper/motiflets/motiflets.py (414)\n\n\nFile \"../motiflets/motiflets.py\", line 414:\ndef compute_distances_with_knns_sparse(ts,\n    <source elided>\n    means, stds = _sliding_mean_std(ts, m)\n    dot_first = _sliding_dot_product(ts[:m], ts)\n    ^\n",
     "output_type": "error",
     "traceback": [
      "\u001B[0;31m---------------------------------------------------------------------------\u001B[0m",
      "\u001B[0;31mTypingError\u001B[0m                               Traceback (most recent call last)",
      "Cell \u001B[0;32mIn[14], line 3\u001B[0m\n\u001B[1;32m      1\u001B[0m k\u001B[38;5;241m=\u001B[39m\u001B[38;5;241m10\u001B[39m\n\u001B[1;32m      2\u001B[0m mot \u001B[38;5;241m=\u001B[39m Motiflets(\u001B[38;5;124m\"\u001B[39m\u001B[38;5;124mECG\u001B[39m\u001B[38;5;124m\"\u001B[39m, series\u001B[38;5;241m.\u001B[39mT)\n\u001B[0;32m----> 3\u001B[0m _ \u001B[38;5;241m=\u001B[39m \u001B[43mmot\u001B[49m\u001B[38;5;241;43m.\u001B[39;49m\u001B[43mfit_k_elbow\u001B[49m\u001B[43m(\u001B[49m\u001B[43mk\u001B[49m\u001B[43m,\u001B[49m\u001B[43m \u001B[49m\u001B[38;5;241;43m1000\u001B[39;49m\u001B[43m)\u001B[49m\n",
      "File \u001B[0;32m~/workspace/motiflets_paper/motiflets/plotting.py:181\u001B[0m, in \u001B[0;36mMotiflets.fit_k_elbow\u001B[0;34m(self, k_max, motif_length, exclusion, filter, plot_elbows, plot_motifs_as_grid)\u001B[0m\n\u001B[1;32m    178\u001B[0m \u001B[38;5;28;01melse\u001B[39;00m:\n\u001B[1;32m    179\u001B[0m     \u001B[38;5;28mself\u001B[39m\u001B[38;5;241m.\u001B[39mmotif_length \u001B[38;5;241m=\u001B[39m motif_length\n\u001B[0;32m--> 181\u001B[0m \u001B[38;5;28mself\u001B[39m\u001B[38;5;241m.\u001B[39mdists, \u001B[38;5;28mself\u001B[39m\u001B[38;5;241m.\u001B[39mmotiflets, \u001B[38;5;28mself\u001B[39m\u001B[38;5;241m.\u001B[39melbow_points \u001B[38;5;241m=\u001B[39m \u001B[43mplot_elbow\u001B[49m\u001B[43m(\u001B[49m\n\u001B[1;32m    182\u001B[0m \u001B[43m    \u001B[49m\u001B[43mk_max\u001B[49m\u001B[43m,\u001B[49m\n\u001B[1;32m    183\u001B[0m \u001B[43m    \u001B[49m\u001B[38;5;28;43mself\u001B[39;49m\u001B[38;5;241;43m.\u001B[39;49m\u001B[43mseries\u001B[49m\u001B[43m,\u001B[49m\n\u001B[1;32m    184\u001B[0m \u001B[43m    \u001B[49m\u001B[43mds_name\u001B[49m\u001B[38;5;241;43m=\u001B[39;49m\u001B[38;5;28;43mself\u001B[39;49m\u001B[38;5;241;43m.\u001B[39;49m\u001B[43mds_name\u001B[49m\u001B[43m,\u001B[49m\n\u001B[1;32m    185\u001B[0m \u001B[43m    \u001B[49m\u001B[43mmotif_length\u001B[49m\u001B[38;5;241;43m=\u001B[39;49m\u001B[43mmotif_length\u001B[49m\u001B[43m,\u001B[49m\n\u001B[1;32m    186\u001B[0m \u001B[43m    \u001B[49m\u001B[43mexclusion\u001B[49m\u001B[38;5;241;43m=\u001B[39;49m\u001B[43mexclusion\u001B[49m\u001B[43m,\u001B[49m\n\u001B[1;32m    187\u001B[0m \u001B[43m    \u001B[49m\u001B[43mplot_elbows\u001B[49m\u001B[38;5;241;43m=\u001B[39;49m\u001B[43mplot_elbows\u001B[49m\u001B[43m,\u001B[49m\n\u001B[1;32m    188\u001B[0m \u001B[43m    \u001B[49m\u001B[43mplot_grid\u001B[49m\u001B[38;5;241;43m=\u001B[39;49m\u001B[43mplot_motifs_as_grid\u001B[49m\u001B[43m,\u001B[49m\n\u001B[1;32m    189\u001B[0m \u001B[43m    \u001B[49m\u001B[43mground_truth\u001B[49m\u001B[38;5;241;43m=\u001B[39;49m\u001B[38;5;28;43mself\u001B[39;49m\u001B[38;5;241;43m.\u001B[39;49m\u001B[43mground_truth\u001B[49m\u001B[43m,\u001B[49m\n\u001B[1;32m    190\u001B[0m \u001B[43m    \u001B[49m\u001B[38;5;28;43mfilter\u001B[39;49m\u001B[38;5;241;43m=\u001B[39;49m\u001B[38;5;28;43mfilter\u001B[39;49m\u001B[43m,\u001B[49m\n\u001B[1;32m    191\u001B[0m \u001B[43m    \u001B[49m\u001B[43mn_jobs\u001B[49m\u001B[38;5;241;43m=\u001B[39;49m\u001B[38;5;28;43mself\u001B[39;49m\u001B[38;5;241;43m.\u001B[39;49m\u001B[43mn_jobs\u001B[49m\u001B[43m,\u001B[49m\n\u001B[1;32m    192\u001B[0m \u001B[43m    \u001B[49m\u001B[43melbow_deviation\u001B[49m\u001B[38;5;241;43m=\u001B[39;49m\u001B[38;5;28;43mself\u001B[39;49m\u001B[38;5;241;43m.\u001B[39;49m\u001B[43melbow_deviation\u001B[49m\u001B[43m,\u001B[49m\n\u001B[1;32m    193\u001B[0m \u001B[43m    \u001B[49m\u001B[43mslack\u001B[49m\u001B[38;5;241;43m=\u001B[39;49m\u001B[38;5;28;43mself\u001B[39;49m\u001B[38;5;241;43m.\u001B[39;49m\u001B[43mslack\u001B[49m\n\u001B[1;32m    194\u001B[0m \u001B[43m\u001B[49m\u001B[43m)\u001B[49m\n\u001B[1;32m    196\u001B[0m \u001B[38;5;28;01mreturn\u001B[39;00m \u001B[38;5;28mself\u001B[39m\u001B[38;5;241m.\u001B[39mdists, \u001B[38;5;28mself\u001B[39m\u001B[38;5;241m.\u001B[39mmotiflets, \u001B[38;5;28mself\u001B[39m\u001B[38;5;241m.\u001B[39melbow_points\n",
      "File \u001B[0;32m~/workspace/motiflets_paper/motiflets/plotting.py:533\u001B[0m, in \u001B[0;36mplot_elbow\u001B[0;34m(k_max, data, ds_name, motif_length, exclusion, plot_elbows, plot_grid, ground_truth, filter, n_jobs, elbow_deviation, slack)\u001B[0m\n\u001B[1;32m    530\u001B[0m \u001B[38;5;28mprint\u001B[39m(\u001B[38;5;124m\"\u001B[39m\u001B[38;5;124mData\u001B[39m\u001B[38;5;124m\"\u001B[39m, \u001B[38;5;28mlen\u001B[39m(raw_data))\n\u001B[1;32m    532\u001B[0m startTime \u001B[38;5;241m=\u001B[39m time\u001B[38;5;241m.\u001B[39mperf_counter()\n\u001B[0;32m--> 533\u001B[0m dists, candidates, elbow_points, m \u001B[38;5;241m=\u001B[39m \u001B[43mml\u001B[49m\u001B[38;5;241;43m.\u001B[39;49m\u001B[43msearch_k_motiflets_elbow\u001B[49m\u001B[43m(\u001B[49m\n\u001B[1;32m    534\u001B[0m \u001B[43m    \u001B[49m\u001B[43mk_max\u001B[49m\u001B[43m,\u001B[49m\n\u001B[1;32m    535\u001B[0m \u001B[43m    \u001B[49m\u001B[43mraw_data\u001B[49m\u001B[43m,\u001B[49m\n\u001B[1;32m    536\u001B[0m \u001B[43m    \u001B[49m\u001B[43mmotif_length\u001B[49m\u001B[43m,\u001B[49m\n\u001B[1;32m    537\u001B[0m \u001B[43m    \u001B[49m\u001B[43mn_jobs\u001B[49m\u001B[38;5;241;43m=\u001B[39;49m\u001B[43mn_jobs\u001B[49m\u001B[43m,\u001B[49m\n\u001B[1;32m    538\u001B[0m \u001B[43m    \u001B[49m\u001B[43mexclusion\u001B[49m\u001B[38;5;241;43m=\u001B[39;49m\u001B[43mexclusion\u001B[49m\u001B[43m,\u001B[49m\n\u001B[1;32m    539\u001B[0m \u001B[43m    \u001B[49m\u001B[43melbow_deviation\u001B[49m\u001B[38;5;241;43m=\u001B[39;49m\u001B[43melbow_deviation\u001B[49m\u001B[43m,\u001B[49m\n\u001B[1;32m    540\u001B[0m \u001B[43m    \u001B[49m\u001B[43mslack\u001B[49m\u001B[38;5;241;43m=\u001B[39;49m\u001B[43mslack\u001B[49m\u001B[43m)\u001B[49m\n\u001B[1;32m    541\u001B[0m endTime \u001B[38;5;241m=\u001B[39m (time\u001B[38;5;241m.\u001B[39mperf_counter() \u001B[38;5;241m-\u001B[39m startTime)\n\u001B[1;32m    543\u001B[0m \u001B[38;5;28mprint\u001B[39m(\u001B[38;5;124m\"\u001B[39m\u001B[38;5;124mChosen window-size:\u001B[39m\u001B[38;5;124m\"\u001B[39m, m, \u001B[38;5;124m\"\u001B[39m\u001B[38;5;124min\u001B[39m\u001B[38;5;124m\"\u001B[39m, np\u001B[38;5;241m.\u001B[39mround(endTime, \u001B[38;5;241m1\u001B[39m), \u001B[38;5;124m\"\u001B[39m\u001B[38;5;124ms\u001B[39m\u001B[38;5;124m\"\u001B[39m)\n",
      "File \u001B[0;32m~/workspace/motiflets_paper/motiflets/motiflets.py:1023\u001B[0m, in \u001B[0;36msearch_k_motiflets_elbow\u001B[0;34m(k_max, data, motif_length, motif_length_range, exclusion, elbow_deviation, filter, slack, n_jobs)\u001B[0m\n\u001B[1;32m   1020\u001B[0m     D_full, knns \u001B[38;5;241m=\u001B[39m compute_distances_with_knns(data_raw, m, k_max_,\n\u001B[1;32m   1021\u001B[0m                                                n_jobs\u001B[38;5;241m=\u001B[39mn_jobs, slack\u001B[38;5;241m=\u001B[39mslack)\n\u001B[1;32m   1022\u001B[0m \u001B[38;5;28;01melse\u001B[39;00m:\n\u001B[0;32m-> 1023\u001B[0m     D_full, knns \u001B[38;5;241m=\u001B[39m \u001B[43mcompute_distances_with_knns_sparse\u001B[49m\u001B[43m(\u001B[49m\u001B[43mdata_raw\u001B[49m\u001B[43m,\u001B[49m\u001B[43m \u001B[49m\u001B[43mm\u001B[49m\u001B[43m,\u001B[49m\u001B[43m \u001B[49m\u001B[43mk_max_\u001B[49m\u001B[43m,\u001B[49m\n\u001B[1;32m   1024\u001B[0m \u001B[43m                                                      \u001B[49m\u001B[43mn_jobs\u001B[49m\u001B[38;5;241;43m=\u001B[39;49m\u001B[43mn_jobs\u001B[49m\u001B[43m,\u001B[49m\u001B[43m \u001B[49m\u001B[43mslack\u001B[49m\u001B[38;5;241;43m=\u001B[39;49m\u001B[43mslack\u001B[49m\u001B[43m)\u001B[49m\n\u001B[1;32m   1026\u001B[0m exclusion_m \u001B[38;5;241m=\u001B[39m \u001B[38;5;28mint\u001B[39m(m \u001B[38;5;241m*\u001B[39m slack)\n\u001B[1;32m   1028\u001B[0m upper_bound \u001B[38;5;241m=\u001B[39m np\u001B[38;5;241m.\u001B[39minf\n",
      "File \u001B[0;32m~/miniconda3/lib/python3.10/site-packages/numba/core/dispatcher.py:468\u001B[0m, in \u001B[0;36m_DispatcherBase._compile_for_args\u001B[0;34m(self, *args, **kws)\u001B[0m\n\u001B[1;32m    464\u001B[0m         msg \u001B[38;5;241m=\u001B[39m (\u001B[38;5;124mf\u001B[39m\u001B[38;5;124m\"\u001B[39m\u001B[38;5;132;01m{\u001B[39;00m\u001B[38;5;28mstr\u001B[39m(e)\u001B[38;5;241m.\u001B[39mrstrip()\u001B[38;5;132;01m}\u001B[39;00m\u001B[38;5;124m \u001B[39m\u001B[38;5;130;01m\\n\u001B[39;00m\u001B[38;5;130;01m\\n\u001B[39;00m\u001B[38;5;124mThis error may have been caused \u001B[39m\u001B[38;5;124m\"\u001B[39m\n\u001B[1;32m    465\u001B[0m                \u001B[38;5;124mf\u001B[39m\u001B[38;5;124m\"\u001B[39m\u001B[38;5;124mby the following argument(s):\u001B[39m\u001B[38;5;130;01m\\n\u001B[39;00m\u001B[38;5;132;01m{\u001B[39;00margs_str\u001B[38;5;132;01m}\u001B[39;00m\u001B[38;5;130;01m\\n\u001B[39;00m\u001B[38;5;124m\"\u001B[39m)\n\u001B[1;32m    466\u001B[0m         e\u001B[38;5;241m.\u001B[39mpatch_message(msg)\n\u001B[0;32m--> 468\u001B[0m     \u001B[43merror_rewrite\u001B[49m\u001B[43m(\u001B[49m\u001B[43me\u001B[49m\u001B[43m,\u001B[49m\u001B[43m \u001B[49m\u001B[38;5;124;43m'\u001B[39;49m\u001B[38;5;124;43mtyping\u001B[39;49m\u001B[38;5;124;43m'\u001B[39;49m\u001B[43m)\u001B[49m\n\u001B[1;32m    469\u001B[0m \u001B[38;5;28;01mexcept\u001B[39;00m errors\u001B[38;5;241m.\u001B[39mUnsupportedError \u001B[38;5;28;01mas\u001B[39;00m e:\n\u001B[1;32m    470\u001B[0m     \u001B[38;5;66;03m# Something unsupported is present in the user code, add help info\u001B[39;00m\n\u001B[1;32m    471\u001B[0m     error_rewrite(e, \u001B[38;5;124m'\u001B[39m\u001B[38;5;124munsupported_error\u001B[39m\u001B[38;5;124m'\u001B[39m)\n",
      "File \u001B[0;32m~/miniconda3/lib/python3.10/site-packages/numba/core/dispatcher.py:409\u001B[0m, in \u001B[0;36m_DispatcherBase._compile_for_args.<locals>.error_rewrite\u001B[0;34m(e, issue_type)\u001B[0m\n\u001B[1;32m    407\u001B[0m     \u001B[38;5;28;01mraise\u001B[39;00m e\n\u001B[1;32m    408\u001B[0m \u001B[38;5;28;01melse\u001B[39;00m:\n\u001B[0;32m--> 409\u001B[0m     \u001B[38;5;28;01mraise\u001B[39;00m e\u001B[38;5;241m.\u001B[39mwith_traceback(\u001B[38;5;28;01mNone\u001B[39;00m)\n",
      "\u001B[0;31mTypingError\u001B[0m: Failed in nopython mode pipeline (step: nopython frontend)\nFailed in nopython mode pipeline (step: Handle with contexts)\nFailed in nopython mode pipeline (step: nopython frontend)\nNo implementation of function Function(<built-in function concatenate>) found for signature:\n \n >>> concatenate(Tuple(array(int64, 1d, C), array(float64, 2d, C)))\n \nThere are 2 candidate implementations:\n    - Of which 2 did not match due to:\n    Overload in function 'impl_np_concatenate': File: numba/np/arrayobj.py: Line 5836.\n      With argument(s): '(Tuple(array(int64, 1d, C), array(float64, 2d, C)))':\n     Rejected as the implementation raised a specific error:\n       TypingError: Failed in nopython mode pipeline (step: nopython frontend)\n     No implementation of function Function(<intrinsic np_concatenate>) found for signature:\n      \n      >>> np_concatenate(Tuple(array(int64, 1d, C), array(float64, 2d, C)), Literal[int](0))\n      \n     There are 2 candidate implementations:\n           - Of which 2 did not match due to:\n           Intrinsic in function 'np_concatenate': File: numba/np/arrayobj.py: Line 5819.\n             With argument(s): '(Tuple(array(int64, 1d, C), array(float64, 2d, C)), int64)':\n            Rejected as the implementation raised a specific error:\n              NumbaTypeError: np.concatenate(): all the input arrays must have same number of dimensions\n       raised from /Users/bzcschae/miniconda3/lib/python3.10/site-packages/numba/core/typing/npydecl.py:518\n     \n     During: resolving callee type: Function(<intrinsic np_concatenate>)\n     During: typing of call at /Users/bzcschae/miniconda3/lib/python3.10/site-packages/numba/np/arrayobj.py (5840)\n     \n     \n     File \"../../../miniconda3/lib/python3.10/site-packages/numba/np/arrayobj.py\", line 5840:\n             def impl(arrays, axis=0):\n                 return np_concatenate(arrays, axis)\n                 ^\n\n  raised from /Users/bzcschae/miniconda3/lib/python3.10/site-packages/numba/core/typeinfer.py:1086\n\nDuring: resolving callee type: Function(<built-in function concatenate>)\nDuring: typing of call at /Users/bzcschae/workspace/motiflets_paper/motiflets/motiflets.py (219)\n\n\nFile \"../motiflets/motiflets.py\", line 219:\ndef _sliding_dot_product(query, time_series):\n    <source elided>\n    if n % 2 == 1:\n        time_series = np.concatenate((np.array([0]), time_series))\n        ^\n\nDuring: resolving callee type: type(CPUDispatcher(<function _sliding_dot_product at 0x16046a7a0>))\nDuring: typing of call at /Users/bzcschae/workspace/motiflets_paper/motiflets/motiflets.py (327)\n\nDuring: resolving callee type: type(CPUDispatcher(<function _sliding_dot_product at 0x16046a7a0>))\nDuring: typing of call at /Users/bzcschae/workspace/motiflets_paper/motiflets/motiflets.py (337)\n\nDuring: resolving callee type: type(CPUDispatcher(<function _sliding_dot_product at 0x16046a7a0>))\nDuring: typing of call at /Users/bzcschae/workspace/motiflets_paper/motiflets/motiflets.py (327)\n\nDuring: resolving callee type: type(CPUDispatcher(<function _sliding_dot_product at 0x16046a7a0>))\nDuring: typing of call at /Users/bzcschae/workspace/motiflets_paper/motiflets/motiflets.py (337)\n\nDuring: resolving callee type: type(CPUDispatcher(<function _sliding_dot_product at 0x16046a7a0>))\nDuring: typing of call at /Users/bzcschae/workspace/motiflets_paper/motiflets/motiflets.py (414)\n\nDuring: resolving callee type: type(CPUDispatcher(<function _sliding_dot_product at 0x16046a7a0>))\nDuring: typing of call at /Users/bzcschae/workspace/motiflets_paper/motiflets/motiflets.py (426)\n\nDuring: resolving callee type: type(CPUDispatcher(<function _sliding_dot_product at 0x16046a7a0>))\nDuring: typing of call at /Users/bzcschae/workspace/motiflets_paper/motiflets/motiflets.py (458)\n\nDuring: resolving callee type: type(CPUDispatcher(<function _sliding_dot_product at 0x16046a7a0>))\nDuring: typing of call at /Users/bzcschae/workspace/motiflets_paper/motiflets/motiflets.py (414)\n\nDuring: resolving callee type: type(CPUDispatcher(<function _sliding_dot_product at 0x16046a7a0>))\nDuring: typing of call at /Users/bzcschae/workspace/motiflets_paper/motiflets/motiflets.py (426)\n\nDuring: resolving callee type: type(CPUDispatcher(<function _sliding_dot_product at 0x16046a7a0>))\nDuring: typing of call at /Users/bzcschae/workspace/motiflets_paper/motiflets/motiflets.py (458)\n\nDuring: resolving callee type: type(CPUDispatcher(<function _sliding_dot_product at 0x16046a7a0>))\nDuring: typing of call at /Users/bzcschae/workspace/motiflets_paper/motiflets/motiflets.py (414)\n\n\nFile \"../motiflets/motiflets.py\", line 414:\ndef compute_distances_with_knns_sparse(ts,\n    <source elided>\n    means, stds = _sliding_mean_std(ts, m)\n    dot_first = _sliding_dot_product(ts[:m], ts)\n    ^\n"
     ]
    }
   ],
   "source": [
    "k=10\n",
    "mot = Motiflets(\"ECG\", series)\n",
    "_ = mot.fit_k_elbow(k, 1000)"
   ]
  },
  {
   "cell_type": "code",
   "execution_count": null,
   "id": "4dc8b40e",
   "metadata": {},
   "outputs": [],
   "source": [
    "print(np.sort(mot.motiflets[-1]))\n",
    "print(mot.dists[-1])"
   ]
  },
  {
   "cell_type": "code",
   "execution_count": null,
   "id": "8344a6cd",
   "metadata": {},
   "outputs": [],
   "source": []
  },
  {
   "cell_type": "code",
   "execution_count": null,
   "outputs": [],
   "source": [],
   "metadata": {
    "collapsed": false
   },
   "id": "2d8291d675c494a0"
  },
  {
   "cell_type": "code",
   "execution_count": 4,
   "id": "7dc68451",
   "metadata": {},
   "outputs": [
    {
     "name": "stderr",
     "output_type": "stream",
     "text": [
      "OMP: Info #276: omp_set_nested routine deprecated, please use omp_set_max_active_levels instead.\n"
     ]
    }
   ],
   "source": [
    "D_full, knns = ml.compute_distance_matrix(series.to_numpy(), 1000, 1)"
   ]
  },
  {
   "cell_type": "code",
   "execution_count": 5,
   "id": "b5ad1d12",
   "metadata": {},
   "outputs": [
    {
     "name": "stdout",
     "output_type": "stream",
     "text": [
      "(1, 29001, 29001)\n"
     ]
    }
   ],
   "source": [
    "print(D_full.shape)\n",
    "dim_index = np.zeros((D_full.shape[1], 1), dtype=np.int32)"
   ]
  },
  {
   "cell_type": "code",
   "execution_count": 9,
   "id": "17a48c7d",
   "metadata": {},
   "outputs": [
    {
     "name": "stdout",
     "output_type": "stream",
     "text": [
      "[  481  1445  3909  5073  6385 10245 12605 16273 17501 18797 20221 21621\n",
      " 22929 24421 27245 28635]\n"
     ]
    },
    {
     "data": {
      "text/plain": [
       "4.258178561202897"
      ]
     },
     "execution_count": 9,
     "metadata": {},
     "output_type": "execute_result"
    }
   ],
   "source": [
    "pos = np.sort(m.indices)\n",
    "print(pos)\n",
    "\n",
    "ml.get_pairwise_extent(D_full, pos, dim_index)**2\n"
   ]
  },
  {
   "cell_type": "code",
   "execution_count": null,
   "id": "695862a2",
   "metadata": {},
   "outputs": [],
   "source": []
  }
 ],
 "metadata": {
  "kernelspec": {
   "display_name": "Python 3 (ipykernel)",
   "language": "python",
   "name": "python3"
  },
  "language_info": {
   "codemirror_mode": {
    "name": "ipython",
    "version": 3
   },
   "file_extension": ".py",
   "mimetype": "text/x-python",
   "name": "python",
   "nbconvert_exporter": "python",
   "pygments_lexer": "ipython3",
   "version": "3.8.13"
  }
 },
 "nbformat": 4,
 "nbformat_minor": 5
}
