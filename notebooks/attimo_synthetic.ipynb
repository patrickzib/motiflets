{
 "cells": [
  {
   "cell_type": "code",
   "execution_count": 3,
   "id": "cb2ea45e-871c-47cc-ba60-9dd3eb83ab91",
   "metadata": {},
   "outputs": [],
   "source": [
    "%load_ext autoreload\n",
    "%autoreload 2\n",
    "\n",
    "import sys\n",
    "sys.path.insert(0, \"../\")\n",
    "\n",
    "from motiflets.motiflets import *\n",
    "from motiflets.plotting import *\n",
    "\n",
    "import matplotlib\n",
    "matplotlib.rcParams['pdf.fonttype'] = 42\n",
    "matplotlib.rcParams['ps.fonttype'] = 42\n",
    "%matplotlib inline\n",
    "%config InlineBackend.figure_formats = {'png', 'retina'}\n",
    "\n",
    "import warnings\n",
    "warnings.simplefilter(\"ignore\")"
   ]
  },
  {
   "cell_type": "code",
   "execution_count": 6,
   "id": "1ca7b168-18d3-47f2-93de-ea7ff0af05db",
   "metadata": {},
   "outputs": [],
   "source": [
    "from motiflets.plotting import *\n",
    "from scipy.stats import zscore\n",
    "\n",
    "def generate_rectangular_wave(motif_length):\n",
    "    return (motif_length,\n",
    "            np.where(np.arange(motif_length) < motif_length / 2, 1, -1))\n",
    "\n",
    "\n",
    "def generate_sine_wave(motif_length):\n",
    "    sine_frequency = 5.0\n",
    "    duration = 2.0\n",
    "\n",
    "    # sine_time = np.arange(motif_length)\n",
    "    t = np.linspace(0, duration, int(motif_length), endpoint=False)\n",
    "\n",
    "    # Generate sine wave\n",
    "    return np.sin(2 * np.pi * sine_frequency * t).flatten()\n",
    "\n",
    "\n",
    "def test_random_walk():\n",
    "    # Parameters\n",
    "    ts_length = 1e6\n",
    "    motif_length = 1000\n",
    "    motif_cardinality = 10\n",
    "\n",
    "    mean = 0.0\n",
    "    std_dev = 1.0\n",
    "\n",
    "    # Generate random walk\n",
    "    time_series = np.cumsum(np.random.normal(mean, std_dev, int(ts_length)))\n",
    "    # time_series = zscore(time_series)\n",
    "\n",
    "    for i in np.arange(0, motif_cardinality):\n",
    "        # Implant sine wave into random walk\n",
    "        sine = generate_sine_wave(motif_length)\n",
    "        noise = np.random.normal(0.1, size=motif_length) * 0.1\n",
    "\n",
    "        # Choose the position to insert sine wave\n",
    "        start = int(i / motif_cardinality * ts_length )\n",
    "        sine += time_series[start-1]\n",
    "        time_series[start:start + motif_length] = sine + noise\n",
    "\n",
    "    ds_name = \"Random Walk\"\n",
    "    ml = Motiflets(ds_name=ds_name, series=time_series)\n",
    "    ml.plot_dataset()\n",
    "    ml.fit_k_elbow(\n",
    "        k_max=motif_cardinality+2, motif_length=motif_length)\n"
   ]
  },
  {
   "cell_type": "code",
   "execution_count": null,
   "id": "7ed4b322-e408-4f29-9048-51062f848ad5",
   "metadata": {},
   "outputs": [],
   "source": [
    "test_random_walk()"
   ]
  },
  {
   "cell_type": "code",
   "execution_count": null,
   "id": "9ba8f114-e8d0-4e7c-b9f4-1b8f0a1ce2ce",
   "metadata": {},
   "outputs": [],
   "source": []
  }
 ],
 "metadata": {
  "kernelspec": {
   "display_name": "Python 3 (ipykernel)",
   "language": "python",
   "name": "python3"
  },
  "language_info": {
   "codemirror_mode": {
    "name": "ipython",
    "version": 3
   },
   "file_extension": ".py",
   "mimetype": "text/x-python",
   "name": "python",
   "nbconvert_exporter": "python",
   "pygments_lexer": "ipython3",
   "version": "3.10.13"
  }
 },
 "nbformat": 4,
 "nbformat_minor": 5
}
