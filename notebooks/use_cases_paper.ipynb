{
 "cells": [
  {
   "cell_type": "markdown",
   "id": "63f0a1f0",
   "metadata": {
    "pycharm": {
     "name": "#%% md\n"
    }
   },
   "source": [
    "# Use Cases"
   ]
  },
  {
   "cell_type": "markdown",
   "id": "ba19f9b7",
   "metadata": {
    "pycharm": {
     "name": "#%% md\n"
    }
   },
   "source": [
    "In this notebook we will walk you through $k$-Motiflets unique ability to learn its parameters from the data to discover meaningful motif sets."
   ]
  },
  {
   "cell_type": "markdown",
   "id": "awful-pickup",
   "metadata": {
    "pycharm": {
     "name": "#%% md\n"
    }
   },
   "source": [
    "# Load required Libraries"
   ]
  },
  {
   "cell_type": "markdown",
   "id": "48788fe0-8500-4898-9993-ba2a62f2cfb6",
   "metadata": {},
   "source": [
    "### Use Pyattimo"
   ]
  },
  {
   "cell_type": "code",
   "execution_count": null,
   "id": "b8b5aaba-0a12-48f9-9e7a-d083fc993fdf",
   "metadata": {},
   "outputs": [],
   "source": [
    "!pip install pyattimo --upgrade"
   ]
  },
  {
   "cell_type": "code",
   "execution_count": null,
   "id": "preliminary-momentum",
   "metadata": {
    "ExecuteTime": {
     "end_time": "2023-12-20T11:08:53.509338Z",
     "start_time": "2023-12-20T11:08:52.536202Z"
    },
    "pycharm": {
     "name": "#%%\n"
    }
   },
   "outputs": [],
   "source": [
    "%load_ext autoreload\n",
    "%autoreload 2\n",
    "\n",
    "import sys\n",
    "sys.path.insert(0, \"../\")\n",
    "\n",
    "from motiflets.motiflets import *\n",
    "from motiflets.plotting import *\n",
    "\n",
    "import matplotlib\n",
    "matplotlib.rcParams['pdf.fonttype'] = 42\n",
    "matplotlib.rcParams['ps.fonttype'] = 42\n",
    "%matplotlib inline\n",
    "%config InlineBackend.figure_formats = {'png', 'retina'}\n",
    "\n",
    "import warnings\n",
    "warnings.simplefilter(\"ignore\")"
   ]
  },
  {
   "cell_type": "markdown",
   "id": "formal-cincinnati",
   "metadata": {
    "pycharm": {
     "name": "#%% md\n"
    }
   },
   "source": [
    "# Dataset: ECG heartbeats from the LTAF database\n",
    "\n",
    "\n",
    "The ECG heartbeats datasets contains a patient's (with ID $71$) heartbeat from the LTAF database. It consists of $3.000$ measurements at $128Hz$ corresponding to roughly $~23s$. The heartbeat rate is around $60$ to $80$ bpm. The TS contains two motifs. It starts with $6$ repetitions of a calibration signal, followed by roughly $16$ full heartbeats.\n",
    "\n",
    "### References\n",
    "- [1] https://academic.oup.com/europace/article/9/7/466/553888"
   ]
  },
  {
   "cell_type": "code",
   "execution_count": null,
   "id": "taken-affiliation",
   "metadata": {
    "ExecuteTime": {
     "end_time": "2023-12-20T11:08:53.714070Z",
     "start_time": "2023-12-20T11:08:53.507877Z"
    },
    "pycharm": {
     "name": "#%%\n"
    }
   },
   "outputs": [],
   "source": [
    "file = 'ecg-heartbeat-av.csv'\n",
    "ds_name = \"ECG Heartbeat\"\n",
    "series, df_gt = read_dataset_with_index(file) \n",
    "\n",
    "ml = Motiflets(ds_name, series, df_gt)\n",
    "fig, ax = ml.plot_dataset()"
   ]
  },
  {
   "cell_type": "markdown",
   "id": "56aec375",
   "metadata": {
    "pycharm": {
     "name": "#%% md\n"
    }
   },
   "source": [
    "# Known Motifs\n",
    "\n",
    "There are two motifs: A calibration signal with $6$ repetitions, and the actual heartbeats with around $16$ occurrences."
   ]
  },
  {
   "cell_type": "markdown",
   "id": "3919ae36",
   "metadata": {
    "pycharm": {
     "name": "#%% md\n"
    }
   },
   "source": [
    "## First, we learn the motif length l\n",
    "\n",
    "We find aminimum around $l=0.8s$ to $l=1s$, equal to a heartbeat rate of $60$-$80$ bpm. "
   ]
  },
  {
   "cell_type": "code",
   "execution_count": null,
   "id": "massive-insulin",
   "metadata": {
    "ExecuteTime": {
     "end_time": "2023-12-20T11:16:08.095732Z",
     "start_time": "2023-12-20T11:16:07.511576Z"
    },
    "pycharm": {
     "name": "#%%\n"
    }
   },
   "outputs": [],
   "source": [
    "ks = 20\n",
    "length_range = np.arange(25,200,25) \n",
    "motif_length = ml.fit_motif_length(ks, length_range)\n",
    "print (\"Best motif length\", series.index[motif_length], \"seconds\")"
   ]
  },
  {
   "cell_type": "markdown",
   "id": "5d599aea",
   "metadata": {
    "pycharm": {
     "name": "#%% md\n"
    }
   },
   "source": [
    "## Next, we learn the size k of the motif set\n",
    "\n",
    "We plot the similarity of the motifs as a function of the cardinality of $k$-Motiflets to their extent. Elbow points represent large changes in similarity of the found motif set, indicative of a concept change from calibrations signal to heartbeats.\n",
    "\n",
    "In the following plots, we found two characteristic motifs: calibration waves with $6$ repetitions and heartbeats with $16$ repetitions."
   ]
  },
  {
   "cell_type": "code",
   "execution_count": null,
   "id": "speaking-sitting",
   "metadata": {
    "ExecuteTime": {
     "end_time": "2023-12-20T11:08:54.401602Z",
     "start_time": "2023-12-20T11:08:54.399369Z"
    },
    "pycharm": {
     "name": "#%%\n"
    }
   },
   "outputs": [],
   "source": [
    "dists, candidates, elbow_points = ml.fit_k_elbow(ks, motif_length)"
   ]
  },
  {
   "cell_type": "markdown",
   "id": "ranging-worst",
   "metadata": {
    "pycharm": {
     "name": "#%% md\n"
    }
   },
   "source": [
    "<hr>"
   ]
  },
  {
   "cell_type": "markdown",
   "id": "engaging-boston",
   "metadata": {
    "pycharm": {
     "name": "#%% md\n"
    }
   },
   "source": [
    "# Dataset: Muscle Activation Dataset\n",
    "\n",
    "The Muscle Activation dataset was collected from professional in-line speed skating on a large motor driven treadmill with Electromyography (EMG) data of multiple movements. It consists of $29.899$ measurements at $100Hz$ corresponding to $30s$ in total. The known motifs are the muscle movement and a recovery phase.\n",
    "\n",
    "### References\n",
    "- [1] https://link.springer.com/content/pdf/10.1007/s10618-007-0070-1.pdf\n",
    "- [2] http://www.cs.ucr.edu/~eamonn/iSAX/iSAX.html"
   ]
  },
  {
   "cell_type": "code",
   "execution_count": null,
   "id": "earned-norway",
   "metadata": {
    "ExecuteTime": {
     "start_time": "2023-12-20T11:08:54.401015Z"
    },
    "pycharm": {
     "name": "#%%\n"
    }
   },
   "outputs": [],
   "source": [
    "file = 'muscle_activation.csv'\n",
    "ds_name = \"Muscle Activation\"\n",
    "series, df_gt = read_dataset_with_index(file) \n",
    "\n",
    "ml = Motiflets(ds_name, series, df_gt)\n",
    "fig, ax = ml.plot_dataset()"
   ]
  },
  {
   "cell_type": "markdown",
   "id": "5da0b2f3",
   "metadata": {
    "pycharm": {
     "name": "#%% md\n"
    }
   },
   "source": [
    "# Known Motifs\n",
    "\n",
    "The known motifs are the muscle movement activation and a recovery phase of the Gluteus Maximus muscle and have $13$ and $12$ occurrences, respectively."
   ]
  },
  {
   "cell_type": "markdown",
   "id": "victorian-pleasure",
   "metadata": {
    "pycharm": {
     "name": "#%% md\n"
    }
   },
   "source": [
    "## First, we learn the motif length l\n",
    "\n",
    "We find a minimum around $l=0.8s$ to $l=1s$, equal to a heartbeat rate of $60$-$80$ bpm. "
   ]
  },
  {
   "cell_type": "code",
   "execution_count": null,
   "id": "humanitarian-hello",
   "metadata": {
    "ExecuteTime": {
     "start_time": "2023-12-20T11:08:54.402783Z"
    },
    "pycharm": {
     "name": "#%%\n"
    }
   },
   "outputs": [],
   "source": [
    "k = 13\n",
    "length_range = np.arange(400,701,100) \n",
    "\n",
    "motif_length = ml.fit_motif_length(k, length_range)\n",
    "print (\"Found motif length\", motif_length)"
   ]
  },
  {
   "cell_type": "markdown",
   "id": "received-impossible",
   "metadata": {
    "pycharm": {
     "name": "#%% md\n"
    }
   },
   "source": [
    "## Top-1 k-Motiflets\n",
    "\n",
    "We find the recovery phase with $12$ occurences as TOP-1 motif"
   ]
  },
  {
   "cell_type": "code",
   "execution_count": null,
   "id": "consolidated-daniel",
   "metadata": {
    "ExecuteTime": {
     "start_time": "2023-12-20T11:08:54.404572Z"
    },
    "pycharm": {
     "name": "#%%\n"
    }
   },
   "outputs": [],
   "source": [
    "dists, candidates, elbow_points = ml.fit_k_elbow(k, motif_length)"
   ]
  },
  {
   "cell_type": "markdown",
   "id": "narrow-compound",
   "metadata": {
    "pycharm": {
     "name": "#%% md\n"
    }
   },
   "source": [
    "<hr>"
   ]
  },
  {
   "cell_type": "markdown",
   "id": "mature-petroleum",
   "metadata": {
    "pycharm": {
     "name": "#%% md\n"
    }
   },
   "source": [
    "# Dataset: Physiodata - EEG sleep data\n",
    "    \n",
    "This Physiodata - EEG sleep dataset contains a recording of an afternoon nap of a healthy, nonsmoking person, between 20 to 40 years old. Data was recorded with an extrathoracic strain belt. The dataset consists of $269.286$ points at $100hz$ corresponding to $45min$. Known motifs are so-called sleep spindles and $k$-complexes.\n",
    "\n",
    "### References:\n",
    "- [1] https://link.springer.com/content/pdf/10.1007/s004220000144.pdf\n",
    "- [2] https://epubs.siam.org/doi/pdf/10.1137/1.9781611972795.41"
   ]
  },
  {
   "cell_type": "code",
   "execution_count": null,
   "id": "separated-fossil",
   "metadata": {
    "ExecuteTime": {
     "start_time": "2023-12-20T11:08:54.406363Z"
    },
    "pycharm": {
     "name": "#%%\n"
    }
   },
   "outputs": [],
   "source": [
    "file = 'npo141.csv' # Dataset Length n:  269286\n",
    "ds_name=\"EEG Sleep Data\"\n",
    "series = read_dataset_with_index(file)\n",
    "\n",
    "ml = Motiflets(ds_name, series)\n",
    "fig, ax = ml.plot_dataset()"
   ]
  },
  {
   "cell_type": "markdown",
   "id": "e41e2ecf",
   "metadata": {
    "pycharm": {
     "name": "#%% md\n"
    }
   },
   "source": [
    "# Known Motifs in Stage 2 sleep phases\n",
    "\n",
    "\n",
    "<img src=\"https://upload.wikimedia.org/wikipedia/commons/7/71/Stage2sleep_new.svg\">\n",
    "\n",
    "This data set contains two main motifs: the K-Complex and  sleep spindles, two characteristic markers of stage 2 sleep."
   ]
  },
  {
   "cell_type": "markdown",
   "id": "db77c043",
   "metadata": {
    "pycharm": {
     "name": "#%% md\n"
    }
   },
   "source": [
    "## We learn the size k of the motif set\n",
    "\n",
    "We plot the similarity of the motifs as a function of the cardinality of $k$-Motiflets to their extent. Elbow points represent large changes in similarity of the found motif set, indicative of a concept change from calibrations signal to heartbeats.\n",
    "\n",
    "In the following plots, we found two characteristic motifs: calibration waves with $6$ repetitions and heartbeats with $16$ repetitions."
   ]
  },
  {
   "cell_type": "code",
   "execution_count": null,
   "id": "final-representation",
   "metadata": {
    "ExecuteTime": {
     "start_time": "2023-12-20T11:08:54.408643Z"
    },
    "pycharm": {
     "name": "#%%\n"
    },
    "scrolled": true
   },
   "outputs": [],
   "source": [
    "ks = 20\n",
    "length_range = np.arange(15,151,10)\n",
    "motif_length = ml.fit_motif_length(ks, length_range)"
   ]
  },
  {
   "cell_type": "markdown",
   "id": "79453f7f",
   "metadata": {
    "pycharm": {
     "name": "#%% md\n"
    }
   },
   "source": [
    "The dataset has many minima. We chose $l=25$ in the following, as it is a good value for both interesting motifs."
   ]
  },
  {
   "cell_type": "markdown",
   "id": "opened-equity",
   "metadata": {
    "pycharm": {
     "name": "#%% md\n"
    }
   },
   "source": [
    "## We learn the size k of the motif set\n",
    "\n",
    "We plot the similarity of the motifs as a function of the cardinality of $k$-Motiflets to their extent. Elbow points represent large changes in similarity of the found motif set, indicative of a concept change from calibrations signal to heartbeats.\n",
    "\n",
    "In the following plots, we found two characteristic motifs: \n",
    "sleep spindles with k=15 repetitions and K-komplexes with k=13 repetitions."
   ]
  },
  {
   "cell_type": "code",
   "execution_count": null,
   "id": "saving-season",
   "metadata": {
    "ExecuteTime": {
     "start_time": "2023-12-20T11:08:54.409932Z"
    },
    "pycharm": {
     "name": "#%%\n"
    }
   },
   "outputs": [],
   "source": [
    "motif_length=25\n",
    "dists, candidates, elbow_points = ml.fit_k_elbow(ks, motif_length)"
   ]
  },
  {
   "cell_type": "markdown",
   "id": "velvet-departure",
   "metadata": {
    "pycharm": {
     "name": "#%% md\n"
    }
   },
   "source": [
    "<hr>"
   ]
  },
  {
   "cell_type": "markdown",
   "id": "above-stephen",
   "metadata": {
    "pycharm": {
     "name": "#%% md\n"
    }
   },
   "source": [
    "# Dataset: Winding\n",
    "\n",
    "Industrial Winding Process is a snapshot of a process where a plastic web is unwound from a first reel (unwinding reel), goes over the second traction reel and is finally rewound on the the third rewinding reel. The recordings correspond to the traction of the second reel angular speed. The data contains $2.500$ points sampled at $0.1s$, corresponding to $250s$.\n",
    "\n",
    "### References \n",
    "- [1] https://homes.esat.kuleuven.be/~tokka/daisydata.html\n",
    "- [2] https://grammarviz2.github.io/grammarviz2_site/morea/motif/experience-m1.html"
   ]
  },
  {
   "cell_type": "code",
   "execution_count": null,
   "id": "prerequisite-paris",
   "metadata": {
    "ExecuteTime": {
     "start_time": "2023-12-20T11:08:54.411195Z"
    },
    "pycharm": {
     "name": "#%%\n"
    }
   },
   "outputs": [],
   "source": [
    "file = \"winding_col.csv\"\n",
    "ds_name = \"Industrial winding process\"\n",
    "series = read_dataset_with_index(file)\n",
    "\n",
    "ml = Motiflets(ds_name, series)\n",
    "fig, ax = ml.plot_dataset()"
   ]
  },
  {
   "cell_type": "markdown",
   "id": "7eeaf8aa",
   "metadata": {
    "pycharm": {
     "name": "#%% md\n"
    }
   },
   "source": [
    "# Known Motifs\n",
    "\n",
    " No documented motifs exist."
   ]
  },
  {
   "cell_type": "markdown",
   "id": "prepared-repair",
   "metadata": {
    "pycharm": {
     "name": "#%% md\n"
    }
   },
   "source": [
    "## First, we learn the motif length l\n",
    "\n",
    "We find aminimum around $l=6s$, equal to 60 data points."
   ]
  },
  {
   "cell_type": "code",
   "execution_count": null,
   "id": "experienced-wellington",
   "metadata": {
    "ExecuteTime": {
     "start_time": "2023-12-20T11:08:54.412178Z"
    },
    "pycharm": {
     "name": "#%%\n"
    },
    "scrolled": true
   },
   "outputs": [],
   "source": [
    "ks = 12\n",
    "length_range = np.arange(10,100,10)\n",
    "\n",
    "motif_length = ml.fit_motif_length(ks, length_range)"
   ]
  },
  {
   "cell_type": "markdown",
   "id": "exclusive-smile",
   "metadata": {
    "pycharm": {
     "name": "#%% md\n"
    }
   },
   "source": [
    "# Top-1 Motiflets"
   ]
  },
  {
   "cell_type": "code",
   "execution_count": null,
   "id": "warming-ranking",
   "metadata": {
    "ExecuteTime": {
     "start_time": "2023-12-20T11:08:54.413135Z"
    },
    "pycharm": {
     "name": "#%%\n"
    }
   },
   "outputs": [],
   "source": [
    "dists, candidates, elbow_points = ml.fit_k_elbow(ks, motif_length)"
   ]
  },
  {
   "cell_type": "markdown",
   "id": "disciplinary-berry",
   "metadata": {
    "pycharm": {
     "name": "#%% md\n"
    }
   },
   "source": [
    "# Top-2 Motiflet"
   ]
  },
  {
   "cell_type": "code",
   "execution_count": null,
   "id": "1dbb4a89",
   "metadata": {
    "ExecuteTime": {
     "start_time": "2023-12-20T11:08:54.414184Z"
    }
   },
   "outputs": [],
   "source": [
    "dists, candidates, elbow_points = ml.fit_k_elbow(ks, motif_length, exclusion=candidates)"
   ]
  },
  {
   "cell_type": "markdown",
   "id": "aquatic-bulletin",
   "metadata": {
    "pycharm": {
     "name": "#%% md\n"
    }
   },
   "source": [
    "<hr>"
   ]
  },
  {
   "cell_type": "markdown",
   "id": "stock-screening",
   "metadata": {
    "pycharm": {
     "name": "#%% md\n"
    }
   },
   "source": [
    "# Dataset: fNIRS Brain Imaging\n",
    "\n",
    "Functional near-infrared spectroscopy (fNIRS) contains brain imaginary data recorded at $690nm$ intensity. There are $208.028$ measurements in total. The data is known to be a difficult example, as it contains four motion artifacts, due to movements of the patient, which dominate MD.\n",
    "\n",
    "## References:\n",
    "- [1] https://dl.acm.org/doi/pdf/10.1145/3097983.3097993"
   ]
  },
  {
   "cell_type": "code",
   "execution_count": null,
   "id": "b5366eb1",
   "metadata": {
    "ExecuteTime": {
     "start_time": "2023-12-20T11:08:54.415120Z"
    }
   },
   "outputs": [],
   "source": [
    "file = \"fNIRS_subLen_600.csv\" \n",
    "ds_name=\"fNIRS\"\n",
    "series = read_dataset_with_index(file) \n",
    "\n",
    "ml = Motiflets(ds_name, series)\n",
    "fig, ax = ml.plot_dataset()"
   ]
  },
  {
   "cell_type": "markdown",
   "id": "guided-solomon",
   "metadata": {
    "pycharm": {
     "name": "#%% md\n"
    }
   },
   "source": [
    "## Motif Length Selection"
   ]
  },
  {
   "cell_type": "code",
   "execution_count": null,
   "id": "italic-brass",
   "metadata": {
    "ExecuteTime": {
     "start_time": "2023-12-20T11:08:54.416335Z"
    },
    "pycharm": {
     "name": "#%%\n"
    }
   },
   "outputs": [],
   "source": [
    "ks = 20\n",
    "length_range = np.arange(100,200,20)\n",
    "motif_length = ml.fit_motif_length(ks, length_range)\n",
    "\n",
    "print (\"Found motif length\", series.index[motif_length])"
   ]
  },
  {
   "cell_type": "markdown",
   "id": "classical-elephant",
   "metadata": {
    "pycharm": {
     "name": "#%% md\n"
    }
   },
   "source": [
    "# Top k-Motiflets"
   ]
  },
  {
   "cell_type": "code",
   "execution_count": null,
   "id": "green-furniture",
   "metadata": {
    "ExecuteTime": {
     "start_time": "2023-12-20T11:08:54.417148Z"
    },
    "pycharm": {
     "name": "#%%\n"
    }
   },
   "outputs": [],
   "source": [
    "dists, candidates, elbow_points = ml.fit_k_elbow(ks, motif_length, filter=True)"
   ]
  },
  {
   "cell_type": "code",
   "execution_count": null,
   "id": "e9af02f7",
   "metadata": {
    "ExecuteTime": {
     "start_time": "2023-12-20T11:08:54.418074Z"
    }
   },
   "outputs": [],
   "source": []
  }
 ],
 "metadata": {
  "kernelspec": {
   "display_name": "Python 3 (ipykernel)",
   "language": "python",
   "name": "python3"
  },
  "language_info": {
   "codemirror_mode": {
    "name": "ipython",
    "version": 3
   },
   "file_extension": ".py",
   "mimetype": "text/x-python",
   "name": "python",
   "nbconvert_exporter": "python",
   "pygments_lexer": "ipython3",
   "version": "3.10.13"
  }
 },
 "nbformat": 4,
 "nbformat_minor": 5
}
