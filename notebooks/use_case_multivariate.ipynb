{
 "cells": [
  {
   "cell_type": "markdown",
   "id": "aa62d4fc-b728-423d-82f7-ec2d917e6a95",
   "metadata": {},
   "source": [
    "# Use Cases\n",
    "\n",
    "In this notebook we will walk you through finding motiflets in multidimensional time series."
   ]
  },
  {
   "cell_type": "code",
   "execution_count": 1,
   "id": "ff7b7ab5",
   "metadata": {
    "ExecuteTime": {
     "end_time": "2024-05-21T08:55:32.704262Z",
     "start_time": "2024-05-21T08:55:30.760959Z"
    }
   },
   "outputs": [],
   "source": [
    "%load_ext autoreload\n",
    "%autoreload 2\n",
    "\n",
    "import sys\n",
    "sys.path.insert(0, \"../\")\n",
    "\n",
    "from motiflets.motiflets import *\n",
    "from motiflets.plotting import *\n",
    "\n",
    "import matplotlib\n",
    "matplotlib.rcParams['pdf.fonttype'] = 42\n",
    "matplotlib.rcParams['ps.fonttype'] = 42\n",
    "%matplotlib inline\n",
    "%config InlineBackend.figure_formats = {'png', 'retina'}\n",
    "\n",
    "import warnings\n",
    "warnings.simplefilter(\"ignore\")"
   ]
  },
  {
   "attachments": {},
   "cell_type": "markdown",
   "id": "da77dd8d-495b-46fa-b6d7-a27f1c8a0f3b",
   "metadata": {},
   "source": [
    "# Magellanic Penguin\n",
    "\n",
    "This use case originates from Zhu et al. [1], and contains telemetry gathered from a Magellanic penguin (Spheniscus magellanicus). It was collected using a compact multi-channel data-logging device attached to the bird, comprises a total of $1,048,575$ time stamps, recorded at 40 Hz, which is approximately 7.2 hours. The X-axis acceleration represents the direction of travel during swimming.\n",
    "\n",
    "## References\n",
    "\n",
    "[1] Yan Zhu, Makoto Imamura, Daniel Nikovski, and Eamonn Keogh. 2017. Matrix profile vii: Time series chains: A new primitive for time series data mining. In 2017 IEEE international conference on data mining (ICDM). IEEE, 695–704."
   ]
  },
  {
   "cell_type": "code",
   "execution_count": null,
   "id": "a2f503a0-ccef-4179-9d6a-dd0131f62828",
   "metadata": {
    "ExecuteTime": {
     "end_time": "2024-05-21T08:55:42.458162Z",
     "start_time": "2024-05-21T08:55:32.705835Z"
    }
   },
   "outputs": [],
   "source": [
    "# Load datasaet\n",
    "def read_penguin_data():\n",
    "    path = \"../datasets/experiments/\"\n",
    "    series = pd.read_csv(path + \"penguin.txt\",\n",
    "                         names=([\"X-Acc\", \"Y-Acc\", \"Z-Acc\",\n",
    "                                 \"4\", \"5\", \"6\",\n",
    "                                 \"7\", \"Pressure\", \"9\"]),\n",
    "                         delimiter=\"\\t\", header=None)\n",
    "    ds_name = \"Penguins\"\n",
    "\n",
    "    return ds_name, series\n",
    "    \n",
    "ds_name, TS = read_penguin_data()\n",
    "series = TS.iloc[:, [0, 1, 2, 3, 4, 5, 7]].T\n",
    "\n",
    "# Plot Dataset\n",
    "_ = plot_dataset(ds_name, series)"
   ]
  },
  {
   "cell_type": "markdown",
   "id": "94b9fe00-d022-4b6a-adb3-a176275a4c97",
   "metadata": {},
   "source": [
    "# Finding Motifsets in Telemetry Data\n",
    "\n",
    "Here, we focus on two subsets of the data, each about $50$ seconds, during which the Penguin (a) first dives to its hunting ground, indicated by an increase of pressure, (b) followed by hunting.    \n",
    "\n",
    "For each, we see three plots: \n",
    "\n",
    "1. Length plot: The *optimal motif lengths* found\n",
    "2. Elbow-plot: The *largest motif set* of the optimal motif length\n",
    "3. Motiflet: The position of the motif set in the time series\n",
    "\n",
    "# Start of the dive\n",
    "\n",
    "The penguin starts to dive into the hunting ground, indicated by increase of pressure. The motif set is a regular stroke with $35$ repeats of length $23$. "
   ]
  },
  {
   "cell_type": "code",
   "execution_count": null,
   "id": "b7703061",
   "metadata": {
    "ExecuteTime": {
     "end_time": "2024-05-21T08:56:13.132177Z",
     "start_time": "2024-05-21T08:55:42.459448Z"
    }
   },
   "outputs": [],
   "source": [
    "length = 10_001\n",
    "start = 0\n",
    "series = TS.iloc[497699 + start:497699 + start + length, [0, 1, 2]].T\n",
    "\n",
    "# Input Parameters\n",
    "k_max = 40     # expected number of repeats\n",
    "motif_length_range = np.arange(20, 30, 1)   # motiflet length range\n",
    "\n",
    "\n",
    "# initialize LAMA\n",
    "ml = Motiflets(\n",
    "    ds_name,  \n",
    "    series,\n",
    "    n_jobs=8    # number of parallel jobs\n",
    ")\n",
    "\n",
    "l = ml.fit_motif_length(\n",
    "    k_max,\n",
    "    motif_length_range,\n",
    ")    \n",
    "\n",
    "# l = 22\n",
    "dists, motiflets, elbow_points = ml.fit_k_elbow(\n",
    "    k_max, \n",
    "    motif_length=l    \n",
    ")"
   ]
  },
  {
   "cell_type": "markdown",
   "id": "aa7bb96f-519d-4914-96db-9942dde1aa39",
   "metadata": {},
   "source": [
    "# Hunting\n",
    "\n",
    "Shortly into the dive, the penguin reached its hunting ground, indicated by decrease in pressure. A different motif set emerges, equal to a stroke and a glide with $24$ repeats and shorter length $l=21$. "
   ]
  },
  {
   "cell_type": "code",
   "execution_count": null,
   "id": "cdf80994",
   "metadata": {
    "ExecuteTime": {
     "end_time": "2024-05-21T08:56:21.050831Z",
     "start_time": "2024-05-21T08:56:13.135820Z"
    }
   },
   "outputs": [],
   "source": [
    "length = 1_000\n",
    "start = 3000\n",
    "series = TS.iloc[497699 + start:497699 + start + length, [0, 1, 2]].T\n",
    "\n",
    "# Input Parameters\n",
    "k_max = 30     # expected number of repeats\n",
    "motif_length_range = np.arange(20, 30, 1)   # motiflet length range\n",
    "\n",
    "\n",
    "# initialize \n",
    "ml = Motiflets(\n",
    "    ds_name,  \n",
    "    series,\n",
    "    n_jobs=8,    # number of parallel jobs\n",
    ")\n",
    "\n",
    "l = ml.fit_motif_length(\n",
    "    k_max,\n",
    "    motif_length_range,\n",
    ")    \n",
    "\n",
    "dists, motiflets, elbow_points = ml.fit_k_elbow(\n",
    "    k_max, \n",
    "    motif_length=l    \n",
    ")"
   ]
  },
  {
   "cell_type": "code",
   "execution_count": null,
   "id": "32c5743a-4aea-4b8d-add0-947da2a1ff0f",
   "metadata": {},
   "outputs": [],
   "source": []
  }
 ],
 "metadata": {
  "kernelspec": {
   "display_name": "Python 3 (ipykernel)",
   "language": "python",
   "name": "python3"
  },
  "language_info": {
   "codemirror_mode": {
    "name": "ipython",
    "version": 3
   },
   "file_extension": ".py",
   "mimetype": "text/x-python",
   "name": "python",
   "nbconvert_exporter": "python",
   "pygments_lexer": "ipython3",
   "version": "3.10.13"
  }
 },
 "nbformat": 4,
 "nbformat_minor": 5
}
